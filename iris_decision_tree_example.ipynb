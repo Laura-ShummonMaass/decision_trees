{
 "cells": [
  {
   "cell_type": "markdown",
   "metadata": {},
   "source": [
    "# Decision Trees with `iris`\n",
    "\n",
    "Created by: Cristian E. Nuno\n",
    "\n",
    "Date: May 19, 2019\n",
    "\n",
    "## Introduction\n",
    "\n",
    "In this lesson, we'll walkthrough the key components of a **_Decision Tree Classifier_**.\n",
    "\n",
    "## Objectives\n",
    "\n",
    "You will be able to:\n",
    "\n",
    "* Understand how to interpret a Decision Tree Classifier\n",
    "\n",
    "## Decision Trees\n",
    "\n",
    "![chocolate decision tree](visuals/chocolate_decision_tree.jpg)\n",
    "\n",
    "A [decision tree](https://www.smartdraw.com/decision-tree/) is a flowchart-like diagram that shows the various outcomes from a series of decisions. Decision trees have three main parts: \n",
    "\n",
    "1. a root node;\n",
    "2. leaf nodes; and\n",
    "3. branches. \n",
    "\n",
    "The root node is at the very top of the tree (i.e. \"How is your day?\"). Both root and leaf nodes (i.e. \"Good\" v. \"Bad\") contain a condition that splits the sample into those that do and do not satisfy the condition. \n",
    "\n",
    "Branches are arrows connecting nodes, showing the flow of splitting by each condition in a node. Each node typically has two or more nodes extending from it until there can be no more splitting (i.e. \"Eat chocolate\").\n",
    "\n",
    "## `iris` data set\n",
    "\n",
    "We're going to import the [**_Iris Dataset_**](https://gist.github.com/curran/a08a1080b88344b0c8a7). \n",
    "\n",
    "![iris flowers](visuals/iris_flowers.png)\n",
    "\n",
    "> This famous (Fisher's or Anderson's) `iris` data set gives 150 measurements (in centimeters) of the variables sepal length and width and petal length and width, respectively, for 50 flowers from each of 3 species of iris. The species are setosa, versicolor, and virginica. - [R Documentation](https://stat.ethz.ch/R-manual/R-devel/library/datasets/html/iris.html)\n",
    "\n",
    "![iris meme](visuals/iris_meme.jpeg)\n",
    "\n",
    "*While some may disagree with the use of `iris`, I have found it invaluable in my growth as a data science. It's really nice to test things on a dataset everyone else has seen!*"
   ]
  },
  {
   "cell_type": "markdown",
   "metadata": {},
   "source": [
    "## Load necessary modules"
   ]
  },
  {
   "cell_type": "code",
   "execution_count": 1,
   "metadata": {},
   "outputs": [],
   "source": [
    "import collections\n",
    "from sklearn.datasets import load_iris\n",
    "from sklearn.model_selection import train_test_split\n",
    "from sklearn.tree import DecisionTreeClassifier\n",
    "from IPython.display import Image  \n",
    "from sklearn import tree\n",
    "import pydotplus\n",
    "import pandas as pd\n",
    "import numpy as np"
   ]
  },
  {
   "cell_type": "markdown",
   "metadata": {},
   "source": [
    "## Load necessary data"
   ]
  },
  {
   "cell_type": "code",
   "execution_count": 2,
   "metadata": {
    "scrolled": true
   },
   "outputs": [
    {
     "data": {
      "text/html": [
       "<div>\n",
       "<style scoped>\n",
       "    .dataframe tbody tr th:only-of-type {\n",
       "        vertical-align: middle;\n",
       "    }\n",
       "\n",
       "    .dataframe tbody tr th {\n",
       "        vertical-align: top;\n",
       "    }\n",
       "\n",
       "    .dataframe thead th {\n",
       "        text-align: right;\n",
       "    }\n",
       "</style>\n",
       "<table border=\"1\" class=\"dataframe\">\n",
       "  <thead>\n",
       "    <tr style=\"text-align: right;\">\n",
       "      <th></th>\n",
       "      <th>sepal length (cm)</th>\n",
       "      <th>sepal width (cm)</th>\n",
       "      <th>petal length (cm)</th>\n",
       "      <th>petal width (cm)</th>\n",
       "      <th>species</th>\n",
       "    </tr>\n",
       "  </thead>\n",
       "  <tbody>\n",
       "    <tr>\n",
       "      <th>0</th>\n",
       "      <td>5.1</td>\n",
       "      <td>3.5</td>\n",
       "      <td>1.4</td>\n",
       "      <td>0.2</td>\n",
       "      <td>0.0</td>\n",
       "    </tr>\n",
       "    <tr>\n",
       "      <th>1</th>\n",
       "      <td>4.9</td>\n",
       "      <td>3.0</td>\n",
       "      <td>1.4</td>\n",
       "      <td>0.2</td>\n",
       "      <td>0.0</td>\n",
       "    </tr>\n",
       "    <tr>\n",
       "      <th>2</th>\n",
       "      <td>4.7</td>\n",
       "      <td>3.2</td>\n",
       "      <td>1.3</td>\n",
       "      <td>0.2</td>\n",
       "      <td>0.0</td>\n",
       "    </tr>\n",
       "    <tr>\n",
       "      <th>3</th>\n",
       "      <td>4.6</td>\n",
       "      <td>3.1</td>\n",
       "      <td>1.5</td>\n",
       "      <td>0.2</td>\n",
       "      <td>0.0</td>\n",
       "    </tr>\n",
       "    <tr>\n",
       "      <th>4</th>\n",
       "      <td>5.0</td>\n",
       "      <td>3.6</td>\n",
       "      <td>1.4</td>\n",
       "      <td>0.2</td>\n",
       "      <td>0.0</td>\n",
       "    </tr>\n",
       "  </tbody>\n",
       "</table>\n",
       "</div>"
      ],
      "text/plain": [
       "   sepal length (cm)  sepal width (cm)  petal length (cm)  petal width (cm)  \\\n",
       "0                5.1               3.5                1.4               0.2   \n",
       "1                4.9               3.0                1.4               0.2   \n",
       "2                4.7               3.2                1.3               0.2   \n",
       "3                4.6               3.1                1.5               0.2   \n",
       "4                5.0               3.6                1.4               0.2   \n",
       "\n",
       "   species  \n",
       "0      0.0  \n",
       "1      0.0  \n",
       "2      0.0  \n",
       "3      0.0  \n",
       "4      0.0  "
      ]
     },
     "execution_count": 2,
     "metadata": {},
     "output_type": "execute_result"
    }
   ],
   "source": [
    "iris = load_iris()\n",
    "X = iris[\"data\"]\n",
    "y = iris[\"target\"]\n",
    "feature_names = iris[\"feature_names\"]\n",
    "class_names = iris[\"target_names\"]\n",
    "\n",
    "# convert to data frame purely for showing the data\n",
    "iris_df = pd.DataFrame(np.column_stack((X, y.reshape(-1, 1)))\n",
    "                       , columns=feature_names + [\"species\"])\n",
    "iris_df.head()"
   ]
  },
  {
   "cell_type": "markdown",
   "metadata": {},
   "source": [
    "### Given numerical measurements of each flower's Sepal & Petal Length + Width, can we predict the species of each Iris flower?\n",
    "\n",
    "Data scientistis use a [Decision Tree Classifier](https://scikit-learn.org/stable/modules/tree.html#tree) to create a model that predicts the value of a target variable by learning simple decision rules inferred from the data features.\n",
    "\n",
    "Using the length and width of both petals and sepals, we're going to use our Decision Tree Classifier to predict the species of the three flower types in `iris` records."
   ]
  },
  {
   "cell_type": "markdown",
   "metadata": {},
   "source": [
    "## Test, train, split"
   ]
  },
  {
   "cell_type": "code",
   "execution_count": 3,
   "metadata": {},
   "outputs": [],
   "source": [
    "X_train, X_test, y_train, y_test = train_test_split(X,\n",
    "                                                    y,\n",
    "                                                    random_state=2019,\n",
    "                                                    test_size=0.3)"
   ]
  },
  {
   "cell_type": "markdown",
   "metadata": {},
   "source": [
    "## Create a Decision Tree Classifier object\n",
    "\n",
    "Now let's build a model that learns to classify the type of species for each flower in `iris` from the measurement variable in the training set."
   ]
  },
  {
   "cell_type": "code",
   "execution_count": 4,
   "metadata": {},
   "outputs": [
    {
     "data": {
      "text/plain": [
       "DecisionTreeClassifier(class_weight=None, criterion='gini', max_depth=None,\n",
       "            max_features=None, max_leaf_nodes=None,\n",
       "            min_impurity_decrease=0.0, min_impurity_split=None,\n",
       "            min_samples_leaf=30, min_samples_split=2,\n",
       "            min_weight_fraction_leaf=0.0, presort=False, random_state=2019,\n",
       "            splitter='best')"
      ]
     },
     "execution_count": 4,
     "metadata": {},
     "output_type": "execute_result"
    }
   ],
   "source": [
    "clf = DecisionTreeClassifier(random_state=2019,\n",
    "                             min_samples_leaf=30,\n",
    "                             criterion=\"gini\",\n",
    "                             min_samples_split=2)\n",
    "\n",
    "clf.fit(X_train, y_train)"
   ]
  },
  {
   "cell_type": "markdown",
   "metadata": {},
   "source": [
    "## Understanding Decision Tree Classifier attributes\n",
    "\n",
    "[The decision estimator has an attribute called `tree_`](https://scikit-learn.org/stable/auto_examples/tree/plot_unveil_tree_structure.html#sphx-glr-auto-examples-tree-plot-unveil-tree-structure-py) which stores the entire tree structure and allows access to low level attributes. \n",
    "\n",
    "The binary tree `tree_` is represented as a number of parallel arrays. The i-th element of each array holds information about the node `i`. Node 0 is the tree's root. \n",
    "\n",
    "NOTE:\n",
    "Some of the arrays only apply to either leaves or split nodes, resp. In this case the values of nodes of the other type are arbitrary!\n",
    "\n",
    "Among those arrays, we have:\n",
    "- left_child, id of the left child of the node\n",
    "- right_child, id of the right child of the node\n",
    "- feature, feature used for splitting the node\n",
    "- threshold, threshold value at the node\n",
    "\n",
    "Using those arrays, we can parse the tree structure:"
   ]
  },
  {
   "cell_type": "code",
   "execution_count": 5,
   "metadata": {},
   "outputs": [
    {
     "name": "stdout",
     "output_type": "stream",
     "text": [
      "\n",
      "The number of nodes is 5 with the root node being index 0.\n",
      "\n",
      "The index of children on the left-hand side from each parent node (i.e. index - 1) is [ 1 -1  3 -1 -1]\n",
      "\n",
      "The index of children on the right-hand side from each parent node (i.e. index - 1) is [ 2 -1  4 -1 -1]\n",
      "\n",
      "The index of the feature used in the condition to split the sample in each node is [ 3 -2  3 -2 -2]\n",
      "\n",
      "The threshold value used to split the sample in each node is [ 0.75 -2.    1.65 -2.   -2.  ]\n",
      "\n"
     ]
    }
   ],
   "source": [
    "n_nodes = clf.tree_.node_count\n",
    "\n",
    "# clf.tree_.children_X returns a -1 for nodes that are non on X-side\n",
    "children_left = clf.tree_.children_left\n",
    "children_right = clf.tree_.children_right\n",
    "\n",
    "# clf.tree_.feature returns a -2 for nodes that did not use a feature to create a condition\n",
    "feature = clf.tree_.feature\n",
    "\n",
    "# clf.tree_.threshold returns a -2 for nodes that did not use a threshold valu\n",
    "threshold = clf.tree_.threshold.round(3)\n",
    "\n",
    "\n",
    "note = f\"\"\"\n",
    "The number of nodes is {n_nodes} with the root node being index 0.\\n\n",
    "The index of children on the left-hand side from each parent node (i.e. index - 1) is {children_left}\\n\n",
    "The index of children on the right-hand side from each parent node (i.e. index - 1) is {children_right}\\n\n",
    "The index of the feature used in the condition to split the sample in each node is {feature}\\n\n",
    "The threshold value used to split the sample in each node is {threshold}\n",
    "\"\"\"\n",
    "print(note)"
   ]
  },
  {
   "cell_type": "markdown",
   "metadata": {},
   "source": [
    "### Interpreting the attributes\n",
    "\n",
    "The parent node (index 0) was split using the `petal width (cm)` feature by diving the 105 records in our sample into those that did and did not contain a value less than or equal to 0.75. That split led to one leaf node and one test node."
   ]
  },
  {
   "cell_type": "code",
   "execution_count": 6,
   "metadata": {},
   "outputs": [
    {
     "name": "stdout",
     "output_type": "stream",
     "text": [
      "\n",
      "The binary tree structure has 5 nodes and has the following tree structure:\n",
      "===========================================================================\n",
      "\n",
      "node=0 is a test node with children: go to node 1 if petal width (cm) <= 0.75 else to node 2\n",
      "\tnode=1 is a leaf node without any children.\n",
      "\tnode=2 is a test node with children: go to node 3 if petal width (cm) <= 1.65 else to node 4\n",
      "\t\tnode=3 is a leaf node without any children.\n",
      "\t\tnode=4 is a leaf node without any children.\n",
      "===========================================================================\n"
     ]
    }
   ],
   "source": [
    "# The tree structure can be traversed to compute various properties such\n",
    "# as the depth of each node and whether or not it is a leaf.\n",
    "node_depth = np.zeros(shape=n_nodes, dtype=np.int64)\n",
    "is_leaves = np.zeros(shape=n_nodes, dtype=bool)\n",
    "stack = [(0, -1)]  # seed is the root node id and its parent depth\n",
    "while len(stack) > 0:\n",
    "    node_id, parent_depth = stack.pop()\n",
    "    node_depth[node_id] = parent_depth + 1\n",
    "\n",
    "    # If we have a test node\n",
    "    if (children_left[node_id] != children_right[node_id]):\n",
    "        stack.append((children_left[node_id], parent_depth + 1))\n",
    "        stack.append((children_right[node_id], parent_depth + 1))\n",
    "    else:\n",
    "        is_leaves[node_id] = True\n",
    "        \n",
    "base_msg = f\"\"\"\n",
    "The binary tree structure has {n_nodes} nodes and has the following tree structure:\n",
    "===========================================================================\n",
    "\"\"\"\n",
    "print(base_msg)\n",
    "        \n",
    "for i in range(n_nodes):\n",
    "    if is_leaves[i]:\n",
    "        childless_msg = \"{}node={} is a leaf node without any children.\".format(node_depth[i] * \"\\t\", i)\n",
    "        print(childless_msg)\n",
    "        #print(f\"%snode={i} is a leaf node without any children.\" % (node_depth[i] * \"\\t\"))\n",
    "    else:\n",
    "        child_msg = \"{}node={} is a test node with children: go to node {} if {} <= {} else to node {}\".format(\n",
    "        node_depth[i] * \"\\t\",\n",
    "        i,\n",
    "        children_left[i],\n",
    "        feature_names[feature[i]],\n",
    "        threshold[i],\n",
    "        children_right[i])\n",
    "        print(child_msg)\n",
    "print(\"===========================================================================\")"
   ]
  },
  {
   "cell_type": "markdown",
   "metadata": {},
   "source": [
    "## Visualizing the decision tree\n",
    "\n",
    "Another way to see the tree is to visualize each node and their subsequent branches."
   ]
  },
  {
   "cell_type": "code",
   "execution_count": 7,
   "metadata": {
    "scrolled": true
   },
   "outputs": [
    {
     "data": {
      "image/png": "[encoded data removed]",
      "text/plain": [
       "<IPython.core.display.Image object>"
      ]
     },
     "execution_count": 7,
     "metadata": {},
     "output_type": "execute_result"
    }
   ],
   "source": [
    "# Create DOT data\n",
    "dot_data = tree.export_graphviz(clf, out_file=None, \n",
    "                                feature_names=feature_names,  \n",
    "                                class_names=class_names)\n",
    "\n",
    "# Draw graph\n",
    "graph = pydotplus.graph_from_dot_data(dot_data)  \n",
    "\n",
    "# Show graph\n",
    "Image(graph.create_png())"
   ]
  },
  {
   "cell_type": "markdown",
   "metadata": {},
   "source": [
    "## Understanding the decision path of each sample"
   ]
  },
  {
   "cell_type": "markdown",
   "metadata": {},
   "source": [
    "First let's retrieve the decision path of each sample. The `decision_path` method allows us to retrieve the node indicator functions. A non zero element of indicator matrix at the position `(i, j)` indicates that the sample `i` goes through the node `j`."
   ]
  },
  {
   "cell_type": "code",
   "execution_count": 8,
   "metadata": {},
   "outputs": [
    {
     "name": "stdout",
     "output_type": "stream",
     "text": [
      "\n",
      "The decision path for sample X_train[0] - [6.1 2.8 4.7 1.2] - was found in node 0, node 2 and node 3 - [1 0 1 1 0].\n",
      "\n",
      "The decision path for X_train[0] ends at node 3 because its petal width (cm) was less than or equal to 1.65.\n",
      "\n",
      "This particular sample was classified into the versicolor species of iris flowers.\n",
      "\n"
     ]
    }
   ],
   "source": [
    "node_indicator = clf.decision_path(X_train)\n",
    "msg = f\"\"\"\n",
    "The decision path for sample X_train[0] - {X_train[0]} - was found in node 0, node 2 and node 3 - \\\n",
    "{node_indicator.toarray()[0]}.\n",
    "\n",
    "The decision path for X_train[0] ends at node 3 because its petal width (cm) was less than or equal to 1.65.\n",
    "\n",
    "This particular sample was classified into the {class_names[y_train[0]]} species of iris flowers.\n",
    "\"\"\"\n",
    "print(msg)"
   ]
  },
  {
   "cell_type": "markdown",
   "metadata": {},
   "source": [
    "Similarly, we can also have the leaves ids reached by each sample."
   ]
  },
  {
   "cell_type": "code",
   "execution_count": 9,
   "metadata": {},
   "outputs": [
    {
     "data": {
      "text/plain": [
       "array([3, 1, 3])"
      ]
     },
     "execution_count": 9,
     "metadata": {},
     "output_type": "execute_result"
    }
   ],
   "source": [
    "leave_id = clf.apply(X_train)\n",
    "leave_id[:3]"
   ]
  },
  {
   "cell_type": "markdown",
   "metadata": {},
   "source": [
    "Now, it's possible to get the tests that were used to predict a sample or a group of samples. First, let's make it for the sample."
   ]
  },
  {
   "cell_type": "code",
   "execution_count": 10,
   "metadata": {},
   "outputs": [
    {
     "data": {
      "text/plain": [
       "array([5.1, 2.5, 3. , 1.1])"
      ]
     },
     "execution_count": 10,
     "metadata": {},
     "output_type": "execute_result"
    }
   ],
   "source": [
    "sample_id = 2\n",
    "X_train[sample_id]"
   ]
  },
  {
   "cell_type": "code",
   "execution_count": 11,
   "metadata": {
    "scrolled": true
   },
   "outputs": [
    {
     "name": "stdout",
     "output_type": "stream",
     "text": [
      "Rules used to predict sample 2:\n",
      "\n",
      "decision id node 0: (X_test[2, 3] (= 2.1) > 0.75)\n",
      "decision id node 2: (X_test[2, 3] (= 2.1) > 1.65)\n"
     ]
    }
   ],
   "source": [
    "node_index = node_indicator.indices[node_indicator.indptr[sample_id]:\n",
    "                                    node_indicator.indptr[sample_id + 1]]\n",
    "\n",
    "print(f\"Rules used to predict sample {sample_id}:\\n\")\n",
    "for node_id in node_index:\n",
    "    if leave_id[sample_id] == node_id:\n",
    "        continue\n",
    "\n",
    "    if (X_test[sample_id, feature[node_id]] <= threshold[node_id]):\n",
    "        threshold_sign = \"<=\"\n",
    "    else:\n",
    "        threshold_sign = \">\"\n",
    "\n",
    "    print(\"decision id node {}: (X_test[{}, {}] (= {}) {} {})\".format(\n",
    "        node_id,\n",
    "        sample_id,\n",
    "        feature[node_id],\n",
    "        X_test[sample_id, feature[node_id]],\n",
    "        threshold_sign,\n",
    "        threshold[node_id]\n",
    "    ))"
   ]
  },
  {
   "cell_type": "code",
   "execution_count": 12,
   "metadata": {},
   "outputs": [
    {
     "name": "stdout",
     "output_type": "stream",
     "text": [
      "Help on class Tree in module sklearn.tree._tree:\n",
      "\n",
      "class Tree(builtins.object)\n",
      " |  Array-based representation of a binary decision tree.\n",
      " |  \n",
      " |  The binary tree is represented as a number of parallel arrays. The i-th\n",
      " |  element of each array holds information about the node `i`. Node 0 is the\n",
      " |  tree's root. You can find a detailed description of all arrays in\n",
      " |  `_tree.pxd`. NOTE: Some of the arrays only apply to either leaves or split\n",
      " |  nodes, resp. In this case the values of nodes of the other type are\n",
      " |  arbitrary!\n",
      " |  \n",
      " |  Attributes\n",
      " |  ----------\n",
      " |  node_count : int\n",
      " |      The number of nodes (internal nodes + leaves) in the tree.\n",
      " |  \n",
      " |  capacity : int\n",
      " |      The current capacity (i.e., size) of the arrays, which is at least as\n",
      " |      great as `node_count`.\n",
      " |  \n",
      " |  max_depth : int\n",
      " |      The maximal depth of the tree.\n",
      " |  \n",
      " |  children_left : array of int, shape [node_count]\n",
      " |      children_left[i] holds the node id of the left child of node i.\n",
      " |      For leaves, children_left[i] == TREE_LEAF. Otherwise,\n",
      " |      children_left[i] > i. This child handles the case where\n",
      " |      X[:, feature[i]] <= threshold[i].\n",
      " |  \n",
      " |  children_right : array of int, shape [node_count]\n",
      " |      children_right[i] holds the node id of the right child of node i.\n",
      " |      For leaves, children_right[i] == TREE_LEAF. Otherwise,\n",
      " |      children_right[i] > i. This child handles the case where\n",
      " |      X[:, feature[i]] > threshold[i].\n",
      " |  \n",
      " |  feature : array of int, shape [node_count]\n",
      " |      feature[i] holds the feature to split on, for the internal node i.\n",
      " |  \n",
      " |  threshold : array of double, shape [node_count]\n",
      " |      threshold[i] holds the threshold for the internal node i.\n",
      " |  \n",
      " |  value : array of double, shape [node_count, n_outputs, max_n_classes]\n",
      " |      Contains the constant prediction value of each node.\n",
      " |  \n",
      " |  impurity : array of double, shape [node_count]\n",
      " |      impurity[i] holds the impurity (i.e., the value of the splitting\n",
      " |      criterion) at node i.\n",
      " |  \n",
      " |  n_node_samples : array of int, shape [node_count]\n",
      " |      n_node_samples[i] holds the number of training samples reaching node i.\n",
      " |  \n",
      " |  weighted_n_node_samples : array of int, shape [node_count]\n",
      " |      weighted_n_node_samples[i] holds the weighted number of training samples\n",
      " |      reaching node i.\n",
      " |  \n",
      " |  Methods defined here:\n",
      " |  \n",
      " |  __getstate__(...)\n",
      " |      Getstate re-implementation, for pickling.\n",
      " |  \n",
      " |  __new__(*args, **kwargs) from builtins.type\n",
      " |      Create and return a new object.  See help(type) for accurate signature.\n",
      " |  \n",
      " |  __reduce__(...)\n",
      " |      Reduce re-implementation, for pickling.\n",
      " |  \n",
      " |  __setstate__(...)\n",
      " |      Setstate re-implementation, for unpickling.\n",
      " |  \n",
      " |  apply(...)\n",
      " |      Finds the terminal region (=leaf node) for each sample in X.\n",
      " |  \n",
      " |  compute_feature_importances(...)\n",
      " |      Computes the importance of each feature (aka variable).\n",
      " |  \n",
      " |  decision_path(...)\n",
      " |      Finds the decision path (=node) for each sample in X.\n",
      " |  \n",
      " |  predict(...)\n",
      " |      Predict target for X.\n",
      " |  \n",
      " |  ----------------------------------------------------------------------\n",
      " |  Data descriptors defined here:\n",
      " |  \n",
      " |  capacity\n",
      " |  \n",
      " |  children_left\n",
      " |  \n",
      " |  children_right\n",
      " |  \n",
      " |  feature\n",
      " |  \n",
      " |  impurity\n",
      " |  \n",
      " |  max_depth\n",
      " |  \n",
      " |  max_n_classes\n",
      " |  \n",
      " |  n_classes\n",
      " |  \n",
      " |  n_features\n",
      " |  \n",
      " |  n_node_samples\n",
      " |  \n",
      " |  n_outputs\n",
      " |  \n",
      " |  node_count\n",
      " |  \n",
      " |  threshold\n",
      " |  \n",
      " |  value\n",
      " |  \n",
      " |  weighted_n_node_samples\n",
      " |  \n",
      " |  ----------------------------------------------------------------------\n",
      " |  Data and other attributes defined here:\n",
      " |  \n",
      " |  __pyx_vtable__ = <capsule object NULL>\n",
      "\n"
     ]
    }
   ],
   "source": [
    "# If the attributes get a little unwieldly, take a look at this help file\n",
    "import sklearn.tree\n",
    "help(sklearn.tree._tree.Tree)"
   ]
  },
  {
   "cell_type": "code",
   "execution_count": 13,
   "metadata": {},
   "outputs": [
    {
     "name": "stdout",
     "output_type": "stream",
     "text": [
      "The following samples [0, 1, 2] share the node [0] in the tree\n",
      "20.0% of all samples exist in node [0].\n"
     ]
    }
   ],
   "source": [
    "# For a group of samples, we have the following common node.\n",
    "sample_ids = list(range(3))\n",
    "common_nodes = (node_indicator.toarray()[sample_ids].sum(axis=0) ==\n",
    "                len(sample_ids))\n",
    "\n",
    "common_node_id = np.arange(n_nodes)[common_nodes]\n",
    "\n",
    "print(f\"The following samples {sample_ids} share the node {common_node_id} in the tree\")\n",
    "print(f\"{100 * len(common_node_id) / n_nodes}% of all samples exist in node {common_node_id}.\")"
   ]
  },
  {
   "cell_type": "markdown",
   "metadata": {},
   "source": [
    "## Understanding Gini Impurity\n",
    "\n",
    "> [Gini Impurity](https://victorzhou.com/blog/gini-impurity/) is the probability of incorrectly classifying a randomly chosen element in the dataset if it were randomly labeled according to the class distribution in the dataset. It’s calculated as:\n",
    "\n",
    "$$G = \\sum_{i=1}^C p(i) * (1 - p(i))$$\n",
    "\n",
    "where $C$ is the number of classes and $p(i)$ is the probability of randomly picking an element of class $i$.\n",
    "\n",
    "Perfectly classified, Gini Impurity would be zero. This leads us to want splits where the Gini Impurity score is low.\n",
    "\n",
    "> When training a decision tree, the best split is chosen by maximizing the Gini Gain, which is calculated by subtracting the weighted impurities of the branches from the original impurity.\n"
   ]
  },
  {
   "cell_type": "markdown",
   "metadata": {},
   "source": [
    "To calculate the Gini Impurity fo each node, we'll need to know the following:\n",
    "\n",
    "* which records in our sample - `X_train` - are in that particular node;\n",
    "* the labels for those records in our sample in that node; and\n",
    "* the proportion of each type of label divided by the total number of records in our sample in that node."
   ]
  },
  {
   "cell_type": "code",
   "execution_count": 14,
   "metadata": {},
   "outputs": [],
   "source": [
    "def calculate_gini_impurity(node):\n",
    "    \"\"\"Calculates the gini impurity of a given node\"\"\"\n",
    "    index = []\n",
    "    for ind, val in enumerate(node_indicator.toarray()[0:, node]):\n",
    "        if val > 0:\n",
    "            index.append(ind)\n",
    "        else:\n",
    "            pass\n",
    "    labels = [y_train[i] for i in index]\n",
    "    \n",
    "    labels_n = []\n",
    "    \n",
    "    for class_ in clf.classes_:\n",
    "        class_ = set([class_])\n",
    "        labels_n.append(len([label for label in labels if label in class_]))\n",
    "        \n",
    "    labels_prop = np.array(labels_n) / len(index)\n",
    "    return (labels_prop * (1 - labels_prop)).sum().round(3)"
   ]
  },
  {
   "cell_type": "code",
   "execution_count": 15,
   "metadata": {},
   "outputs": [
    {
     "data": {
      "text/plain": [
       "[0.663, 0.0, 0.497, 0.133, 0.061]"
      ]
     },
     "execution_count": 15,
     "metadata": {},
     "output_type": "execute_result"
    }
   ],
   "source": [
    "gini_impurity = []\n",
    "for node in range(clf.tree_.node_count):\n",
    "    gini_impurity.append(calculate_gini_impurity(node))\n",
    "gini_impurity"
   ]
  },
  {
   "cell_type": "markdown",
   "metadata": {},
   "source": [
    "For comparison, let's pull out the Gini Impurity scores found in our tree and ensure that our results are the same."
   ]
  },
  {
   "cell_type": "code",
   "execution_count": 16,
   "metadata": {},
   "outputs": [
    {
     "name": "stdout",
     "output_type": "stream",
     "text": [
      "[0.663, 0.0, 0.497, 0.133, 0.061]\n"
     ]
    },
    {
     "data": {
      "text/plain": [
       "True"
      ]
     },
     "execution_count": 16,
     "metadata": {},
     "output_type": "execute_result"
    }
   ],
   "source": [
    "print(list(clf.tree_.impurity.round(3)))\n",
    "gini_impurity == list(clf.tree_.impurity.round(3))"
   ]
  },
  {
   "cell_type": "markdown",
   "metadata": {},
   "source": [
    "## Summary\n",
    "\n",
    "Thank you for reading! Decision Tree Classifier class contain many attributes that help us understand the contents of how are data is being split to best categorize the labels. In this case, we used the `iris` data set to help us realize that the `petal width (cm)` feature was the most important feature in determining which observations belonged to a particular species (i.e. setosa, versicolor, and virginica).\n",
    "\n",
    "### References\n",
    "\n",
    "* https://scikit-learn.org/stable/modules/generated/sklearn.tree.DecisionTreeClassifier.html#sklearn.tree.DecisionTreeClassifier\n",
    "\n",
    "* https://scikit-learn.org/stable/auto_examples/tree/plot_unveil_tree_structure.html#sphx-glr-auto-examples-tree-plot-unveil-tree-structure-py\n",
    "\n",
    "* https://scikit-learn.org/stable/tutorial/basic/tutorial.html\n",
    "\n",
    "* https://scikit-learn.org/stable/auto_examples/tree/plot_unveil_tree_structure.html#sphx-glr-auto-examples-tree-plot-unveil-tree-structure-py\n",
    "\n",
    "* https://victorzhou.com/blog/gini-impurity/\n",
    "\n",
    "* https://chrisalbon.com/machine_learning/trees_and_forests/visualize_a_decision_tree/\n",
    "\n",
    "* https://www.smartdraw.com/decision-tree/\n",
    "\n",
    "* https://people.csail.mit.edu/dsontag/courses/ml16/slides/lecture11.pdf\n",
    "\n",
    "* https://github.com/scikit-learn/scikit-learn/blob/master/sklearn/tree/_tree.pyx\n",
    "\n",
    "* https://jakevdp.github.io/PythonDataScienceHandbook/05.08-random-forests.html\n",
    "\n",
    "* https://www.pinterest.com/pin/864057878480432148/\n",
    "\n",
    "* http://suruchifialoke.com/2016-10-13-machine-learning-tutorial-iris-classification/"
   ]
  }
 ],
 "metadata": {
  "kernelspec": {
   "display_name": "Python (learn-env)",
   "language": "python",
   "name": "learn-env"
  },
  "language_info": {
   "codemirror_mode": {
    "name": "ipython",
    "version": 3
   },
   "file_extension": ".py",
   "mimetype": "text/x-python",
   "name": "python",
   "nbconvert_exporter": "python",
   "pygments_lexer": "ipython3",
   "version": "3.6.6"
  }
 },
 "nbformat": 4,
 "nbformat_minor": 2
}
